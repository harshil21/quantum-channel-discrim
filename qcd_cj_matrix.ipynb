{
  "cells": [
    {
      "cell_type": "markdown",
      "metadata": {
        "id": "m-FPBhW0LlWO"
      },
      "source": [
        "# Quantum Channel Discrimination"
      ]
    },
    {
      "cell_type": "markdown",
      "metadata": {
        "id": "XZN8o3tQLlWQ"
      },
      "source": [
        "Date : December 30, 2021\n",
        "\n",
        "This notebook contains material supporting a paper, currently titled *Five Starter Pieces: Quantum Information Science via Semi-definite Programs*, by Vikesh Siddhu (vsiddhu@protonmail.com) and Sridhar Tayur (stayur@cmu.edu). The paper is available on this **[arXiv](http://arxiv.org/abs/2112.08276)** link. The arXiv paper is released there is under the **[arXiv.org perpetual, non-exclusive license](https://arxiv.org/licenses/nonexclusive-distrib/1.0/license.html)**, and this code is released under the **[MIT license](https://opensource.org/licenses/MIT)**.\n",
        "\n",
        "This notebook depends upon various packages including [numpy](https://numpy.org/) >= 1.19.5, [picos](https://picos-api.gitlab.io/picos/index.html) >= 2.2.55, and [cvxopt](http://cvxopt.org/) >= 1.2.5.\n",
        "    \n",
        "[![Open In Colab](https://colab.research.google.com/assets/colab-badge.svg)](https://colab.research.google.com/github/vsiddhu/SDP-Quantum-OR/blob/master/Notebook%203%20-%20Quantum%20Channel%20Discrimination.ipynb)"
      ]
    },
    {
      "cell_type": "markdown",
      "metadata": {
        "id": "Pa5CyolZLlWR"
      },
      "source": [
        "## Introduction\n",
        "\n",
        "The probability of correctly distinguishing two unifromly chosen quantum channels $\\mathcal{B}_1$ and $\\mathcal{B}_2$ without using entangled inputs is\n",
        "\\begin{equation}\n",
        " q^* = \\frac{1}{2}(1 + \\frac{1}{2} \\max_{\\rho}|| \\mathcal{B}_1(\\rho) - \\mathcal{B}_2(\\rho) ||_1)\n",
        "\\end{equation}\n",
        "and using entangled inputs is\n",
        "\\begin{equation}\n",
        "s^* = \\frac{1}{2}(1 + \\frac{1}{2}|| \\mathcal{B}_1 -  \\mathcal{B}_2 ||_{\\diamond}).\n",
        "\\end{equation}\n",
        "Here $||.||_{\\diamond}$ refers to the diamond norm of a linear map discussed next."
      ]
    },
    {
      "cell_type": "markdown",
      "metadata": {
        "id": "_WFpuKb-LlWS"
      },
      "source": [
        "### Diamond Norm\n",
        "A linear map $\\mathcal{B}:\\hat{ \\mathcal{H}_a} \\mapsto \\hat{ \\mathcal{H}_b}$ has diamond norm\n",
        "$$\n",
        "|| \\mathcal{B} ||_{\\diamond} = \n",
        "\\max_{ ||\\rho_{aa}||_1 \\leq 1} ||\\mathcal{B} \\otimes \\mathcal{I} (\\rho_{aa})||_1\n",
        "$$\n",
        "where $\\mathcal{I}$ is the identity map on $\\hat{ \\mathcal{H}_a}$, and $||X||_1 = \\rm Tr (\\sqrt{X X^{\\dagger}})$.\n",
        "The map $\\mathcal{B}$ has a Choi-Jamiolkowski representation\n",
        "$$\n",
        "\\mathcal{J}_{ba}(\\mathcal{B}) = \\mathcal{B} \\otimes \\mathcal{I} (\\gamma)\n",
        "$$\n",
        "where $\\gamma = \\sum_{ij} | ii \\rangle \\langle  jj|$. Using this representation one can compute $|| \\mathcal{B} ||_{\\diamond}$ as the optimum value of the semi-definite program (SDP)"
      ]
    },
    {
      "cell_type": "markdown",
      "metadata": {
        "id": "_woTqoNqLlWS"
      },
      "source": [
        " \\begin{align}\n",
        " \\begin{aligned}\n",
        "   \\text{maximize} & \\;  \\frac{1}{2} \\; \\big( \\rm Tr(\\mathcal{J}_{ba}(\\mathcal{B})X) + \\rm Tr(\\mathcal{J}_{ba}(\\mathcal{B})X)^* \\big) & \\\\\n",
        "   \\text{subject to} & \\;\n",
        "  \\begin{pmatrix}\n",
        "   I_b \\otimes \\rho_a & X \\\\\n",
        "  X^{\\dagger} & I_b \\otimes \\sigma_a\n",
        "  \\end{pmatrix}\n",
        "  \\succeq 0. & \\\\\n",
        "  & \\rm Tr(\\rho_a) = 1, & \\\\\n",
        "  & \\rm Tr(\\sigma_a) = 1, & \\\\ \n",
        "  \\text{and} \\; & \\quad X \\in \\hat{\\mathcal{H}}_{ba},\n",
        "  \\end{aligned}\n",
        "  \\end{align}\n",
        "  where $I_b$ is the identity matrix on $\\mathcal{H}_b$. This SDP problem mentioned above has a dual formulation,\n",
        "\n",
        "\\begin{align}\n",
        " \\begin{aligned}\n",
        "  \\text{minimize} & \\;  \\frac{1}{2} \\big(  \\mu + \\nu \\big) & \\\\\n",
        "  \\text{subject to} & \\; \n",
        "  \\begin{pmatrix}\n",
        "  N_{ba} & -\\mathcal{J}_{ba}(\\mathcal{B})\\\\\n",
        "  -\\mathcal{J}_{ba}(\\mathcal{B})^{\\dagger} & M_{ba}\n",
        "  \\end{pmatrix}\n",
        "  \\succeq 0,\\\\\n",
        "  & \\; \\rm Tr_b (N_{ba}) \\preceq \\mu I_a \\\\\n",
        "  \\text{and} & \\; \\rm Tr_b (M_{ba}) \\preceq \\nu I_a.\n",
        "  \\end{aligned}\n",
        "  \\end{align}\n",
        "In what follows, consider various examples of this SDP. "
      ]
    },
    {
      "cell_type": "code",
      "execution_count": null,
      "metadata": {
        "colab": {
          "base_uri": "https://localhost:8080/"
        },
        "id": "3hXnsO2JLlWS",
        "outputId": "478964d7-1b69-4603-c46b-f5bceff09c1b"
      },
      "outputs": [
        {
          "ename": "",
          "evalue": "",
          "output_type": "error",
          "traceback": [
            "\u001b[1;31mRunning cells with '/home/hoppingturtles/.local/share/rtx/installs/python/3.11.2/bin/python' requires the ipykernel package.\n",
            "\u001b[1;31mRun the following command to install 'ipykernel' into the Python environment. \n",
            "\u001b[1;31mCommand: '/home/hoppingturtles/.local/share/rtx/installs/python/3.11.2/bin/python -m pip install ipykernel -U --user --force-reinstall'"
          ]
        }
      ],
      "source": [
        "%pylab inline"
      ]
    },
    {
      "cell_type": "code",
      "execution_count": 3,
      "metadata": {
        "colab": {
          "base_uri": "https://localhost:8080/"
        },
        "id": "7Cb2VcFrLlWU",
        "outputId": "0f2a448a-427f-4afd-ee75-e5cd6b36231a"
      },
      "outputs": [
        {
          "name": "stdout",
          "output_type": "stream",
          "text": [
            "\u001b[?25l     \u001b[90m━━━━━━━━━━━━━━━━━━━━━━━━━━━━━━━━━━━━━━━━\u001b[0m \u001b[32m0.0/510.7 kB\u001b[0m \u001b[31m?\u001b[0m eta \u001b[36m-:--:--\u001b[0m\r\u001b[2K     \u001b[91m━━━━━━━━━━━━━━━━━━\u001b[0m\u001b[91m╸\u001b[0m\u001b[90m━━━━━━━━━━━━━━━━━━━━\u001b[0m \u001b[32m245.8/510.7 kB\u001b[0m \u001b[31m7.4 MB/s\u001b[0m eta \u001b[36m0:00:01\u001b[0m\r\u001b[2K     \u001b[90m━━━━━━━━━━━━━━━━━━━━━━━━━━━━━━━━━━━━━━━\u001b[0m \u001b[32m510.7/510.7 kB\u001b[0m \u001b[31m8.6 MB/s\u001b[0m eta \u001b[36m0:00:00\u001b[0m\n",
            "\u001b[?25h  Preparing metadata (setup.py) ... \u001b[?25l\u001b[?25hdone\n",
            "  Building wheel for picos (setup.py) ... \u001b[?25l\u001b[?25hdone\n"
          ]
        }
      ],
      "source": [
        "# For Google Colab use, commands installing packages\n",
        "try:\n",
        "  import google.colab\n",
        "  IN_COLAB = True\n",
        "except:\n",
        "  IN_COLAB = False\n",
        "\n",
        "# Install PICOS and CVXOPT in Google Colab\n",
        "if IN_COLAB:\n",
        "    !pip install -q picos\n",
        "    !pip install -q cvxopt\n",
        "    !pip install -q matplotlib"
      ]
    },
    {
      "cell_type": "code",
      "execution_count": 4,
      "metadata": {
        "id": "mUrIlo_QLlWU"
      },
      "outputs": [],
      "source": [
        "import picos as pic\n",
        "import cvxopt as cvx\n",
        "import numpy as np\n",
        "import matplotlib.pyplot as plt"
      ]
    },
    {
      "cell_type": "code",
      "execution_count": 5,
      "metadata": {
        "colab": {
          "base_uri": "https://localhost:8080/"
        },
        "id": "SXxg0v31LlWV",
        "outputId": "7a2f6cd4-48a0-48d7-b983-6e05727a77a5"
      },
      "outputs": [
        {
          "name": "stdout",
          "output_type": "stream",
          "text": [
            "Solvers supported on this installation of picos: dict_keys(['cplex', 'cvxopt', 'ecos', 'glpk', 'gurobi', 'mosek', 'mskfsn', 'osqp', 'scip', 'smcp'])\n"
          ]
        }
      ],
      "source": [
        "print('Solvers supported on this installation of picos:', pic.solvers.all_solvers().keys())\n"
      ]
    },
    {
      "cell_type": "code",
      "execution_count": 6,
      "metadata": {
        "colab": {
          "base_uri": "https://localhost:8080/"
        },
        "id": "aKSILQfLLlWV",
        "outputId": "3af8c490-8646-4999-e905-2208e124bddc"
      },
      "outputs": [
        {
          "name": "stdout",
          "output_type": "stream",
          "text": [
            "Solvers available to picos on this machine : ['cvxopt', 'ecos', 'osqp']\n"
          ]
        }
      ],
      "source": [
        "print('Solvers available to picos on this machine :', pic.solvers.available_solvers())"
      ]
    },
    {
      "cell_type": "markdown",
      "metadata": {
        "id": "5DDs5f41LlWV"
      },
      "source": [
        "### Example 1\n",
        "Diamond norm of a qubit depolarizing channel \n",
        "\\begin{equation}\n",
        "    \\Delta(\\rho) = \\lambda \\rho + \\frac{(1-\\lambda)}{2} \\rm Tr(\\rho) I,\n",
        "\\end{equation}\n",
        " where $-1/3 \\leq \\lambda \\leq 1$. The Choi-Jamiolkowski representation of this channel is\n",
        " \\begin{equation}\n",
        " \\mathcal{J}_{ba}(\\Delta) = \n",
        " \\begin{pmatrix}\n",
        " (1 + \\lambda)/2 & 0 & 0 & \\lambda \\\\\n",
        " 0 & (1 - \\lambda)/2 & 0 & 0 \\\\\n",
        " 0 & 0 & (1 - \\lambda)/2 & 0 \\\\\n",
        " \\lambda & 0 & 0 & (1 + \\lambda)/2\n",
        " \\end{pmatrix}.\n",
        " \\end{equation}\n",
        " The depolarizing channel above can also be written using the parameter $p := 3(1-\\lambda)/4$ which lies between $0$ and $1$."
      ]
    },
    {
      "cell_type": "code",
      "execution_count": 11,
      "metadata": {
        "id": "uFJ3PY5rLlWW"
      },
      "outputs": [],
      "source": [
        "#Example 1 using the primal formulation\n",
        "def cj_mat(p) -> np.array:\n",
        "    lmVal = 1.-4.*p/3.\n",
        "    cjMat = lambda lm : np.array([[(1. + lm)/2, 0., 0., lm],\n",
        "                        [0., (1. - lm)/2, 0., 0.],\n",
        "                        [0., 0., (1. - lm)/2, 0.],\n",
        "                        [lm, 0., 0., (1 + lm)/2]])\n",
        "    return cjMat(p)\n",
        "\n",
        "def solve_primal(p) -> tuple[float, ...]:\n",
        "    cjMat = cj_mat(p)\n",
        "    lmVal = 1.-4.*p/3.\n",
        "    da = 2\n",
        "    db = 2\n",
        "    gammaBA = cjMat\n",
        "\n",
        "    #Constants\n",
        "    #----------\n",
        "    gammaPic = pic.Constant(\"gammaBA\", gammaBA)\n",
        "    shpBA = np.shape( gammaBA )\n",
        "    shpB = np.shape(pic.partial_trace(gammaPic, subsystems=(1),dimensions=2))\n",
        "    shpA = np.shape(pic.partial_trace(gammaPic, subsystems=(0),dimensions=2))\n",
        "    iMatB = pic.Constant('Ib', np.eye(shpB[0]))\n",
        "\n",
        "    #Variables\n",
        "    #----------\n",
        "    rhoPic = pic.HermitianVariable(\"rhoA\", shpA)\n",
        "    sigPic = pic.HermitianVariable(\"sigA\", shpB)\n",
        "    XPic = pic.ComplexVariable(\"X\", shpBA)\n",
        "\n",
        "    prob1P = pic.Problem()\n",
        "    \n",
        "    #Constraint\n",
        "    #----------\n",
        "    prob1P.add_constraint(((iMatB @ rhoPic  & XPic) // (XPic.H & iMatB @ sigPic)) >> 0)\n",
        "    prob1P.add_constraint(pic.trace(rhoPic) == 1)\n",
        "    prob1P.add_constraint(pic.trace(sigPic) == 1)\n",
        "\n",
        "    #Objective\n",
        "    #----------\n",
        "    obj = pic.trace(gammaPic | XPic).real\n",
        "\n",
        "    prob1P.set_objective('max',obj)\n",
        "    #User readable view of the problem being composed in PICOS'\n",
        "    #Solve the problem using cvxopt as a solver\n",
        "    prob1P.solve(verbosity=False,solver='cvxopt')\n",
        "    #Solver claims to have found optimal solution\n",
        "    dNorm1P =  prob1P.value\n",
        "    return dNorm1P, shpA, shpBA, gammaPic\n"
      ]
    },
    {
      "cell_type": "code",
      "execution_count": 7,
      "metadata": {
        "id": "svK4CtKlLlWX"
      },
      "outputs": [],
      "source": []
    },
    {
      "cell_type": "code",
      "execution_count": 12,
      "metadata": {
        "id": "oWb9svWwLlWX"
      },
      "outputs": [],
      "source": [
        "def solve_dual(shpA, shpBA, gammaPic):\n",
        "    #Example 1 Dual Formulation\n",
        "    #Constants\n",
        "    #----------\n",
        "    iMatA = pic.Constant('Ia', np.eye(shpA[0]))\n",
        "\n",
        "    #Variables\n",
        "    #----------\n",
        "    NPicBA = pic.HermitianVariable(\"Nba\", shpBA)\n",
        "    MPicBA = pic.HermitianVariable(\"Mba\", shpBA)\n",
        "    mu = pic.RealVariable(\"mu\")\n",
        "    nu = pic.RealVariable(\"nu\")\n",
        "    prob1D = pic.Problem()\n",
        "        \n",
        "    #Constraint\n",
        "    #----------\n",
        "    prob1D.add_constraint(((NPicBA & -gammaPic) // (-gammaPic.H & MPicBA)) >> 0)\n",
        "\n",
        "    NPicA = pic.partial_trace(NPicBA,subsystems=(0),dimensions=2)\n",
        "    MPicA = pic.partial_trace(MPicBA,subsystems=(0),dimensions=2)\n",
        "\n",
        "    prob1D.add_constraint(MPicA<<mu*iMatA)\n",
        "    prob1D.add_constraint(NPicA<<nu*iMatA)\n",
        "\n",
        "    #Objective\n",
        "    #----------\n",
        "    obj = (mu + nu)/2\n",
        "\n",
        "    prob1D.set_objective('min',obj)\n",
        "    # print(prob1D)\n",
        "    #Solve the problem using mosek as a cvxopt\n",
        "    prob1D.solve(verbosity=False,solver='cvxopt')\n",
        "    #Solver claims to have found optimal solution\n",
        "    dNorm1D =  prob1D.value\n",
        "    # dNorm1Alg = 1.0\n",
        "    return dNorm1D"
      ]
    },
    {
      "cell_type": "code",
      "execution_count": 8,
      "metadata": {
        "id": "1fb22SqaLlWY"
      },
      "outputs": [],
      "source": []
    },
    {
      "cell_type": "code",
      "execution_count": 13,
      "metadata": {
        "id": "PDRxHsAfPhdp"
      },
      "outputs": [],
      "source": [
        "def plot_example_1():\n",
        "    primal_probs = []\n",
        "    dual_probs = []\n",
        "    p_vals = [0.5]\n",
        "\n",
        "    # for p in np.arange(0.0, 1.0, 0.05):\n",
        "    #     p_vals.append(p)\n",
        "    \n",
        "    for p in p_vals:\n",
        "        primal_prob, shpA, shpBA, gammaPic = solve_primal(p)\n",
        "        dual_prob = solve_dual(shpA, shpBA, gammaPic)\n",
        "\n",
        "        primal_probs.append(primal_prob)\n",
        "        dual_probs.append(dual_prob)\n",
        "\n",
        "    print(primal_probs)\n",
        "    print(dual_probs)\n",
        "    print(len(p_vals))\n",
        "    print(len(primal_probs))\n",
        "    x = np.array(p_vals)\n",
        "    y = np.array(dual_probs)\n",
        "    print(y)\n",
        "    print(x.shape, y.shape)\n",
        "    plt.plot(x, y)\n",
        "    plt.show()"
      ]
    },
    {
      "cell_type": "code",
      "execution_count": 14,
      "metadata": {
        "colab": {
          "base_uri": "https://localhost:8080/",
          "height": 534
        },
        "id": "uLW9-YeCSAra",
        "outputId": "fe0fd26f-dd81-4e74-95b1-4300450c1489"
      },
      "outputs": [
        {
          "name": "stdout",
          "output_type": "stream",
          "text": [
            "[0.9999999976730901]\n",
            "[0.9999999999624753]\n",
            "1\n",
            "1\n",
            "[1.]\n",
            "(1,) (1,)\n"
          ]
        },
        {
          "data": {
            "image/png": "[encoded data removed]",
            "text/plain": [
              "<Figure size 640x480 with 1 Axes>"
            ]
          },
          "metadata": {},
          "output_type": "display_data"
        }
      ],
      "source": [
        "plot_example_1()"
      ]
    },
    {
      "cell_type": "markdown",
      "metadata": {
        "id": "tyFAnwN3LlWY"
      },
      "source": [
        "* As mentioned in Sec. 6, any quantum channel (completely positive trace preserving map) $\\mathcal{B}$ has a diamond norm $|| \\mathcal{B}||_{\\diamond} = 1$. The numerics above simply confirm this fact in the case of a qubit depolarizing channel. In what follows we discuss the advantage of using entanglement to distinguish quantum channels."
      ]
    },
    {
      "cell_type": "markdown",
      "metadata": {
        "id": "k9rA8konLlWY"
      },
      "source": [
        "### Example 2: Distinguishing Depolarizing from Identity\n",
        "\n",
        "In the introduction state at the top of this notebook, let $\\mathcal{B}_1$ be the qubit identity channel $\\mathcal{I}$ and $\\mathcal{B}_2$ be the qubit depolarizing channel\n",
        "\\begin{equation}\n",
        "    \\Delta(\\rho) = \\lambda \\rho + \\frac{(1-\\lambda)}{2} \\rm Tr(\\rho) I,\n",
        "\\end{equation}\n",
        "where $-1/3 \\leq \\lambda \\leq 1$."
      ]
    },
    {
      "cell_type": "code",
      "execution_count": 15,
      "metadata": {
        "id": "Es6WDG5_LlWZ"
      },
      "outputs": [],
      "source": [
        "#Example 2. Using the primal formulation\n",
        "def example_2(p):\n",
        "    upsBA = cj_mat(1)\n",
        "\n",
        "    thetaBA = cj_mat(p)\n",
        "\n",
        "    gamma2BA = upsBA - thetaBA  #Primal SDP\n",
        "    #Constants\n",
        "    #----------\n",
        "    gamma2Pic = pic.Constant(\"gamma2BA\", gamma2BA)\n",
        "    \n",
        "    shpBA = np.shape( gamma2Pic )\n",
        "    shpB = np.shape(pic.partial_trace(gamma2Pic, subsystems=(1),dimensions=2))\n",
        "    shpA = np.shape(pic.partial_trace(gamma2Pic, subsystems=(0),dimensions=2))\n",
        "    iMatB = pic.Constant('Ib', np.eye(shpB[0]))\n",
        "    \n",
        "    #Variables\n",
        "    #----------\n",
        "    rhoPic = pic.HermitianVariable(\"rhoA\", shpA)\n",
        "    sigPic = pic.HermitianVariable(\"sigA\", shpA)\n",
        "    XPic = pic.ComplexVariable(\"X\", shpBA)\n",
        "    \n",
        "    prob2P = pic.Problem()\n",
        "        \n",
        "    #Constraint\n",
        "    #----------\n",
        "    prob2P.add_constraint(((iMatB @ rhoPic & XPic ) // (XPic.H & iMatB @ sigPic)) >> 0)\n",
        "    prob2P.add_constraint(pic.trace(rhoPic) == 1)\n",
        "    prob2P.add_constraint(pic.trace(sigPic) == 1)\n",
        "    \n",
        "    #Objective\n",
        "    #----------\n",
        "    obj = pic.trace(gamma2Pic | XPic).real\n",
        "    \n",
        "    prob2P.set_objective('max',obj)\n",
        "\n",
        "    #Solve the problem using mosek as a cvxopt\n",
        "    prob2P.solve(verbosity=False,solver='cvxopt')\n",
        "    #Solver claims to have found optimal saolution\n",
        "    dNorm2P =  prob2P.value\n",
        "    #Example 2 Dual Formulation\n",
        "    #Constants\n",
        "    #----------\n",
        "    iMatA = pic.Constant('Ia', np.eye(shpA[0]))\n",
        "    \n",
        "    #Variables\n",
        "    #----------\n",
        "    NPicBA = pic.HermitianVariable(\"Nba\", shpBA)\n",
        "    MPicBA = pic.HermitianVariable(\"Mba\", shpBA)\n",
        "    mu = pic.RealVariable(\"mu\")\n",
        "    nu = pic.RealVariable(\"nu\")\n",
        "    prob2D = pic.Problem()\n",
        "        \n",
        "    #Constraint\n",
        "    #----------\n",
        "    prob2D.add_constraint(((NPicBA & -gamma2Pic) // (-gamma2Pic.H & MPicBA)) >> 0)\n",
        "    \n",
        "    NPicA = pic.partial_trace(NPicBA,subsystems=(0),dimensions=2)\n",
        "    MPicA = pic.partial_trace(MPicBA,subsystems=(0),dimensions=2)\n",
        "    \n",
        "    prob2D.add_constraint(MPicA<<mu*iMatA)\n",
        "    prob2D.add_constraint(NPicA<<nu*iMatA)\n",
        "    \n",
        "    #Objective\n",
        "    #----------\n",
        "    obj = (mu + nu)/2\n",
        "    \n",
        "    prob2D.set_objective('min',obj)\n",
        "    #Solve the problem using mosek as a cvxopt\n",
        "    prob2D.solve(verbosity=False,solver='cvxopt')\n",
        "    #Solver claims to have found optimal solution\n",
        "    dNorm2D =  prob2D.value\n",
        "    # print('Diamond Norm distance between identity and equal probability Pauli error Channel')\n",
        "    # print('Using Primal SDP = ', dNorm2P)\n",
        "    # print('Using DualSDP = ', dNorm2D)\n",
        "    # print('Difference between primal and dual values', abs(dNorm2D - dNorm2P))\n",
        "    pE = (1 + dNorm2D/2)/2\n",
        "    # print('Probability of distinguishing with an entangled input s* = ', pE)\n",
        "    lmVal = 1.-4.*p/3.\n",
        "    # print('Probability of distinguishing without an entangled input q* = ', (3 - lmVal)/4)\n",
        "    return pE, (3 - lmVal)/4"
      ]
    },
    {
      "cell_type": "code",
      "execution_count": 21,
      "metadata": {
        "id": "x5XZkzOfLlWb"
      },
      "outputs": [],
      "source": [
        "def plot_example_2():\n",
        "    entangled_probs = []\n",
        "    non_entangled_probs = []\n",
        "    p_vals = [0.75]\n",
        "\n",
        "    # for p in np.arange(0.0, 1.0, 0.05):\n",
        "    #     p_vals.append(p)\n",
        "\n",
        "    for p in p_vals:\n",
        "        entangled_prob, non_entangled_prob = example_2(p)\n",
        "        entangled_probs.append(entangled_prob)\n",
        "        non_entangled_probs.append(non_entangled_prob)\n",
        "\n",
        "    print(entangled_probs)\n",
        "    print(non_entangled_probs)\n",
        "    print(min(non_entangled_probs))\n",
        "    print(len(p_vals))\n",
        "    x = np.array(p_vals)\n",
        "    y = np.array(non_entangled_probs)\n",
        "    print(y)\n",
        "    print(x.shape, y.shape)\n",
        "    plt.plot(x, y)\n",
        "    plt.show()"
      ]
    },
    {
      "cell_type": "markdown",
      "metadata": {
        "id": "hUqMJX7Zb1cl"
      },
      "source": []
    },
    {
      "cell_type": "code",
      "execution_count": 22,
      "metadata": {
        "colab": {
          "base_uri": "https://localhost:8080/",
          "height": 534
        },
        "id": "6gJ63eesZSMp",
        "outputId": "efefc8c4-d4cb-4054-f562-3fb59215d2de"
      },
      "outputs": [
        {
          "name": "stdout",
          "output_type": "stream",
          "text": [
            "[0.5937499999462881]\n",
            "[0.75]\n",
            "0.75\n",
            "1\n",
            "[0.75]\n",
            "(1,) (1,)\n"
          ]
        },
        {
          "data": {
            "image/png": "[encoded data removed]",
            "text/plain": [
              "<Figure size 640x480 with 1 Axes>"
            ]
          },
          "metadata": {},
          "output_type": "display_data"
        }
      ],
      "source": [
        "plot_example_2()"
      ]
    },
    {
      "cell_type": "markdown",
      "metadata": {
        "id": "44Beg8KoLlWb"
      },
      "source": [
        "The value pE obtained above is in agreement with algebraic value $s^* = (7 - 3\\lambda)/8$ stated in Sec.6. This value is larger than $q^* = (3-\\lambda)/4$, the probability of distinguishing without entangled inputs."
      ]
    },
    {
      "cell_type": "markdown",
      "metadata": {
        "id": "yEmdnIpLLlWb"
      },
      "source": [
        "### Example 3: Distinguishing Werner-Holevo channels\n",
        "\\begin{equation}\n",
        "\\mathcal{B}_1(\\rho) = \\frac{1}{d+1} \\big( \\rm Tr(\\rho) I + \\rho^T\\big), \n",
        "\\quad \\text{and} \\quad\n",
        "\\mathcal{B}_2(\\rho) = \\frac{1}{d-1} \\big( \\rm Tr(\\rho) I - \\rho^T\\big). \n",
        "\\end{equation}\n",
        "Who have Choi-Jamiolkowski representations \n",
        "\\begin{equation}\n",
        "\\mathcal{J}_{ba}(\\mathcal{B}_1) =  \\frac{1}{d+1}( I \\otimes I + S_{ba}), \n",
        "\\quad \\text{and} \\quad\n",
        "\\mathcal{J}_{ab}(\\mathcal{B}_2) = \\frac{1}{d-1}( I \\otimes I - S_{ba}), \n",
        "\\end{equation}\n",
        "resp., where $S_{ba} |i \\rangle |j \\rangle = |j \\rangle |i \\rangle$. We compute their diamond norm distance\n",
        "\n",
        "\\begin{equation}\n",
        "|| \\mathcal{B}_1 -  \\mathcal{B}_2 ||_{\\diamond},\n",
        "\\end{equation}\n",
        "\n",
        "using which the probability $s^* = \\frac{1}{2}(1 + \\frac{1}{2}|| \\mathcal{B}_1 -  \\mathcal{B}_2 ||_{\\diamond})$ is be computed with relative ease.\n"
      ]
    },
    {
      "cell_type": "code",
      "execution_count": null,
      "metadata": {
        "id": "cU6-R65ILlWb"
      },
      "outputs": [],
      "source": [
        "d = 3\n",
        "iMatJoint = np.eye(d*d)\n"
      ]
    },
    {
      "cell_type": "code",
      "execution_count": null,
      "metadata": {
        "id": "Dmt3SeMcLlWb"
      },
      "outputs": [],
      "source": [
        "wMatrix = np.zeros(shape=(d*d,d*d))\n",
        "for i in range(d):\n",
        "    for j in range(d):\n",
        "        k1 = i*d + j\n",
        "        k2 = j*d + i\n",
        "        wMatrix[k1,k2] = 1."
      ]
    },
    {
      "cell_type": "code",
      "execution_count": null,
      "metadata": {
        "id": "zwbLo4WqLlWb"
      },
      "outputs": [],
      "source": [
        "thBA = (iMatJoint + wMatrix)/(d+1)\n",
        "psiBA = (iMatJoint - wMatrix)/(d-1)"
      ]
    },
    {
      "cell_type": "code",
      "execution_count": null,
      "metadata": {
        "id": "MwRM9GCYLlWc"
      },
      "outputs": [],
      "source": [
        "#Example 3 using the primal formulation\n",
        "\n",
        "#Constants\n",
        "#----------\n",
        "gamma3Pic = pic.Constant(\"gammaBA\", thBA - psiBA)\n",
        "shpBA = np.shape( gamma3Pic )\n",
        "\n",
        "\n",
        "shpB = np.shape(pic.partial_trace(gamma3Pic, subsystems=(1),dimensions=d))\n",
        "shpA = np.shape(pic.partial_trace(gamma3Pic, subsystems=(0),dimensions=d))\n",
        "iMatB = pic.Constant('Ib', np.eye(shpB[0]))\n",
        "\n",
        "#Variables\n",
        "#----------\n",
        "rhoPic = pic.HermitianVariable(\"rhoA\", shpA)\n",
        "sigPic = pic.HermitianVariable(\"sigA\", shpB)\n",
        "XPic = pic.ComplexVariable(\"X\", shpBA)\n",
        "\n",
        "\n",
        "prob3P = pic.Problem()\n",
        "    \n",
        "#Constraint\n",
        "#----------\n",
        "prob3P.add_constraint(((iMatB @ rhoPic & XPic) // (XPic.H & iMatB @ sigPic)) >> 0)\n",
        "prob3P.add_constraint(pic.trace(rhoPic) == 1)\n",
        "prob3P.add_constraint(pic.trace(sigPic) == 1)\n",
        "\n",
        "#Objective\n",
        "#----------\n",
        "obj = pic.trace(gamma3Pic | XPic).real\n",
        "\n",
        "prob3P.set_objective('max',obj)"
      ]
    },
    {
      "cell_type": "code",
      "execution_count": null,
      "metadata": {
        "id": "6_zW0yVMLlWc"
      },
      "outputs": [],
      "source": [
        "#User readable view of the problem being composed in PICOS'\n",
        "print(prob3P)"
      ]
    },
    {
      "cell_type": "code",
      "execution_count": null,
      "metadata": {
        "id": "nwl6rXQqLlWc"
      },
      "outputs": [],
      "source": [
        "#Solve the problem using mosek as a cvxopt\n",
        "prob3P.solve(verbosity=False,solver='cvxopt')"
      ]
    },
    {
      "cell_type": "code",
      "execution_count": null,
      "metadata": {
        "id": "foJ4QqWlLlWc"
      },
      "outputs": [],
      "source": [
        "#Solver claims to have found optimal solution\n",
        "dNorm3P =  prob3P.value"
      ]
    },
    {
      "cell_type": "code",
      "execution_count": null,
      "metadata": {
        "id": "e3t8GXKRLlWc"
      },
      "outputs": [],
      "source": [
        "#Example 3 Dual Formulation\n",
        "#Constants\n",
        "#----------\n",
        "iMatA = pic.Constant('Ia', np.eye(shpA[0]))\n",
        "\n",
        "#Variables\n",
        "#----------\n",
        "NPicBA = pic.HermitianVariable(\"Nba\", shpBA)\n",
        "MPicBA = pic.HermitianVariable(\"Mba\", shpBA)\n",
        "mu = pic.RealVariable(\"mu\")\n",
        "nu = pic.RealVariable(\"nu\")\n",
        "\n",
        "\n",
        "prob3D = pic.Problem()\n",
        "    \n",
        "#Constraint\n",
        "#----------\n",
        "prob3D.add_constraint(((NPicBA & -gamma3Pic) // (-gamma3Pic.H & MPicBA)) >> 0)\n",
        "\n",
        "NPicA = pic.partial_trace(NPicBA,subsystems=(0),dimensions=d)\n",
        "MPicA = pic.partial_trace(MPicBA,subsystems=(0),dimensions=d)\n",
        "\n",
        "prob3D.add_constraint(MPicA<<mu*iMatA)\n",
        "prob3D.add_constraint(NPicA<<nu*iMatA)\n",
        "\n",
        "#Objective\n",
        "#----------\n",
        "obj = (mu + nu)/2\n",
        "\n",
        "prob3D.set_objective('min',obj)"
      ]
    },
    {
      "cell_type": "code",
      "execution_count": null,
      "metadata": {
        "id": "5j9lczwDLlWc"
      },
      "outputs": [],
      "source": [
        "#User readable view of the problem being composed in PICOS'\n",
        "print(prob3D)\n"
      ]
    },
    {
      "cell_type": "code",
      "execution_count": null,
      "metadata": {
        "id": "QO8CBvB-LlWd"
      },
      "outputs": [],
      "source": [
        "#Solve the problem using mosek as a cvxopt\n",
        "prob3D.solve(verbosity=False,solver='cvxopt')"
      ]
    },
    {
      "cell_type": "code",
      "execution_count": null,
      "metadata": {
        "id": "M0Kugl8rLlWd"
      },
      "outputs": [],
      "source": [
        "#Solver claims to have found optimal solution\n",
        "dNorm3D =  prob3D.value"
      ]
    },
    {
      "cell_type": "code",
      "execution_count": null,
      "metadata": {
        "id": "TNollQPoLlWd"
      },
      "outputs": [],
      "source": [
        "print('Diamond Norm distance between identity and equal probability Pauli error Channel')\n",
        "print('Using Primal SDP = ', dNorm3P)\n",
        "print('Using DualSDP = ', dNorm3D)\n",
        "print('Difference between primal and dual values', abs(dNorm3D - dNorm3P))\n"
      ]
    },
    {
      "cell_type": "code",
      "execution_count": null,
      "metadata": {
        "id": "C6TzmAV2LlWd"
      },
      "outputs": [],
      "source": [
        "pE = (1 + dNorm3D/2)/2\n",
        "print('Probability of distinguishing with an entangled input s* = ', pE)\n",
        "print('Probability of distinguishing without an entangled input q* = ', .5 + 1/(d+1))"
      ]
    },
    {
      "cell_type": "markdown",
      "metadata": {
        "id": "rQV7VJmsLlWd"
      },
      "source": [
        "The value pE obtained above is in agreement with algebraic value $s^* = 1$ stated in Sec.6. This value is larger than $q^* = \\frac{1}{2} + \\frac{1}{d+1}$, the probability of distinguishing without entangled inputs."
      ]
    }
  ],
  "metadata": {
    "colab": {
      "provenance": []
    },
    "kernelspec": {
      "display_name": "Python 3",
      "language": "python",
      "name": "python3"
    },
    "language_info": {
      "codemirror_mode": {
        "name": "ipython",
        "version": 3
      },
      "file_extension": ".py",
      "mimetype": "text/x-python",
      "name": "python",
      "nbconvert_exporter": "python",
      "pygments_lexer": "ipython3",
      "version": "3.11.2"
    }
  },
  "nbformat": 4,
  "nbformat_minor": 0
}
